{
 "cells": [
  {
   "cell_type": "markdown",
   "source": [
    "Изработил: Стефан Крстевски, 223/2017\n",
    "\n",
    "# <center>Проектна задача по Машинско учење</center>\n",
    "## <center>Kласификација на небесни објекти</center>\n",
    "\n",
    "##### Целта на овој проект е да се создаде систем за класификација на небесните објекти врз основа на нивните спектрални карактеристики. Проектот ќе вклучува користење на Python за анализа и визуелизација на податоците од ѕвездените спектри и развој на модел за класификација користејќи алгоритми за машинско учење. Моделот ќе биде дизајниран да ги подредува објектите во три главни групи: галаксии, квазари и ѕвезди. Проектот има за цел да обезбеди точна и ефикасна алатка за астрономите да ги класифицираат и проучуваат небесните објекти и да го продлабочат нашето разбирање за структурата и еволуцијата на универзумот."
   ],
   "metadata": {
    "collapsed": false
   }
  },
  {
   "cell_type": "code",
   "execution_count": null,
   "outputs": [],
   "source": [
    "## Содржина\n",
    "\n",
    "0.[Вчитување на потребни библиотеки](  #bib)\n",
    "    1.[Опис на проблемот кој се решава](  #opis)\n",
    "-[Податочно множество](  #pod)\n",
    "-[Визуелизација на податоците](  #viz)\n",
    "-[Опис на користените метрики](  #met)\n",
    "2.[Користени пристапи од машинско учење за решавање на проблемот](  #pristapi)\n",
    "-[Опис на алгоритам 1](  #prist1)\n",
    "-[Опис на алгоритам 2](  #prist2)\n",
    "-...\n",
    "-[Опис на алгоритам n](  #pristn)\n",
    "3.[Решавање на проблемот](  #res)\n",
    "-[Решавање со алгоритам 1](  #res1)\n",
    "-[Решавање со алгоритам 2](  #res2)\n",
    "-...\n",
    "-[Решавање со алгоритам n](  #resn)\n",
    "4.[Споредба на резултатите](  #spor)\n",
    "5.[Пост-оптимизирачка анализа](  #postop)\n",
    "6.[Заклучок](  #zakl)\n",
    "7.[Користена литература и ресурси](  #resources)\n"
   ],
   "metadata": {
    "collapsed": false,
    "pycharm": {
     "is_executing": true
    }
   }
  },
  {
   "cell_type": "code",
   "execution_count": null,
   "outputs": [],
   "source": [
    "## 0. Вчитување на потребни библиотеки <a id='bib'></a>"
   ],
   "metadata": {
    "collapsed": false
   }
  },
  {
   "cell_type": "code",
   "execution_count": null,
   "outputs": [],
   "source": [
    "import numpy as np"
   ],
   "metadata": {
    "collapsed": false,
    "pycharm": {
     "is_executing": true
    }
   }
  },
  {
   "cell_type": "code",
   "execution_count": null,
   "outputs": [],
   "source": [],
   "metadata": {
    "collapsed": false
   }
  }
 ],
 "metadata": {
  "kernelspec": {
   "display_name": "Python 3",
   "language": "python",
   "name": "python3"
  },
  "language_info": {
   "codemirror_mode": {
    "name": "ipython",
    "version": 2
   },
   "file_extension": ".py",
   "mimetype": "text/x-python",
   "name": "python",
   "nbconvert_exporter": "python",
   "pygments_lexer": "ipython2",
   "version": "2.7.6"
  }
 },
 "nbformat": 4,
 "nbformat_minor": 0
}
