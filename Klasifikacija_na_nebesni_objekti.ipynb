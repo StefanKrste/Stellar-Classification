{
 "cells": [
  {
   "cell_type": "markdown",
   "source": [
    "Изработил: Стефан Крстевски, 223/2017\n",
    "\n",
    "# <center>Проектна задача по Машинско учење</center>\n",
    "## <center>Kласификација на небесни објекти</center>\n",
    "\n",
    "##### Целта на овој проект е да се создаде систем за класификација на небесните објекти врз основа на нивните спектрални карактеристики. Проектот ќе вклучува користење на Python за анализа и визуелизација на податоците од ѕвездените спектри и развој на модел за класификација користејќи алгоритми за машинско учење. Моделот ќе биде дизајниран да ги подредува објектите во три главни групи: галаксии, квазари и ѕвезди. Проектот има за цел да обезбеди точна и ефикасна алатка за астрономите да ги класифицираат и проучуваат небесните објекти и да го продлабочат нашето разбирање за структурата и еволуцијата на универзумот."
   ],
   "metadata": {
    "collapsed": false
   }
  },
  {
   "cell_type": "code",
   "execution_count": 7,
   "outputs": [
    {
     "ename": "SyntaxError",
     "evalue": "invalid syntax. Perhaps you forgot a comma? (396713012.py, line 3)",
     "output_type": "error",
     "traceback": [
      "\u001B[1;36m  Cell \u001B[1;32mIn[7], line 3\u001B[1;36m\u001B[0m\n\u001B[1;33m    0. [Вчитување на потребни библиотеки](#bib)\u001B[0m\n\u001B[1;37m        ^\u001B[0m\n\u001B[1;31mSyntaxError\u001B[0m\u001B[1;31m:\u001B[0m invalid syntax. Perhaps you forgot a comma?\n"
     ]
    }
   ],
   "source": [],
   "metadata": {
    "collapsed": false
   }
  }
 ],
 "metadata": {
  "kernelspec": {
   "display_name": "Python 3",
   "language": "python",
   "name": "python3"
  },
  "language_info": {
   "codemirror_mode": {
    "name": "ipython",
    "version": 2
   },
   "file_extension": ".py",
   "mimetype": "text/x-python",
   "name": "python",
   "nbconvert_exporter": "python",
   "pygments_lexer": "ipython2",
   "version": "2.7.6"
  }
 },
 "nbformat": 4,
 "nbformat_minor": 0
}
